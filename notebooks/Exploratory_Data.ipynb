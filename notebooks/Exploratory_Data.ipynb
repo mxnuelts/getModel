{
 "cells": [
  {
   "cell_type": "markdown",
   "metadata": {},
   "source": [
    "# Importar librerías"
   ]
  },
  {
   "cell_type": "code",
   "execution_count": 18,
   "metadata": {},
   "outputs": [
    {
     "name": "stdout",
     "output_type": "stream",
     "text": [
      "setup-complete!\n"
     ]
    }
   ],
   "source": [
    "import pandas as pd\n",
    "import pandas_profiling\n",
    "from datetime import datetime\n",
    "import os\n",
    "import numpy as np\n",
    "import seaborn as sns\n",
    "import warnings\n",
    "import statsmodels.api as sm\n",
    "import matplotlib.pyplot as plt\n",
    "from statsmodels.graphics.gofplots import qqplot\n",
    "from sklearn.model_selection import train_test_split,cross_val_score\n",
    "from sklearn.feature_selection import SelectKBest\n",
    "from sklearn.feature_selection import f_regression\n",
    "from sklearn.feature_selection import mutual_info_regression\n",
    "from sklearn.linear_model import LogisticRegression\n",
    "import lightgbm as lgb\n",
    "from sklearn.preprocessing import StandardScaler\n",
    "from sklearn.metrics import roc_auc_score\n",
    "import sys\n",
    "sys.setrecursionlimit(5000)\n",
    "\n",
    "warnings.simplefilter(action=\"ignore\", category=FutureWarning)\n",
    "warnings.simplefilter(action=\"ignore\", category=Warning)\n",
    "\n",
    "def set_seed(seed=42):\n",
    "    np.random.seed(seed)\n",
    "    os.environ[\"PYTHONHASHSEED\"] = str(seed)\n",
    "    os.environ[\"TF_DETERMINISTIC_OPS\"] = \"1\"\n",
    "set_seed()\n",
    "\n",
    "pd.set_option(\"display.width\", 100)\n",
    "pd.set_option(\"display.max_columns\", 50)\n",
    "pd.set_option(\"display.max_rows\", 20)\n",
    "\n",
    "print(\"setup-complete!\")"
   ]
  },
  {
   "cell_type": "markdown",
   "metadata": {},
   "source": [
    "# Funciones"
   ]
  },
  {
   "cell_type": "code",
   "execution_count": 19,
   "metadata": {},
   "outputs": [],
   "source": [
    "def missing_zero_values_table(df):\n",
    "    \"\"\"\n",
    "    Obtener tabla resumen de valores ceros y faltantes en cada columna\n",
    "    \n",
    "    Parámetros\n",
    "    ----------\n",
    "    df : DataFrame\n",
    "        \n",
    "    Regresa\n",
    "    -------\n",
    "    mz_table : Dataframe\n",
    "        Regresa la tabla resumen con valores faltantes y ceros\n",
    "    \"\"\"\n",
    "    zero_val = (df == 0.00).astype(int).sum(axis=0)\n",
    "    mis_val = df.isnull().sum()\n",
    "    mz_table = pd.concat([zero_val, mis_val], axis=1)\n",
    "    mz_table = mz_table.rename(\n",
    "    columns = {0 : 'Valores Cero', 1 : 'Valores missing'})\n",
    "    mz_table['Valores cero y missing'] = mz_table['Valores Cero'] + mz_table['Valores missing']\n",
    "    mz_table['% de cero y missing'] = 100 * mz_table['Valores cero y missing'] / len(df)\n",
    "    mz_table['Tipo de dato'] = df.dtypes\n",
    "    mz_table = mz_table.sort_values(\n",
    "    '% de cero y missing', ascending=False).round(3)\n",
    "    print (\"El dataframe seleccionado tiene \" + str(df.shape[1]) + \" columnas y \" + str(df.shape[0]) + \" filas.\\n\"      \n",
    "        \"Hay \" + str(mz_table.shape[0]) +\n",
    "            \" columnas que no tienen valores vacíos.\")\n",
    "    return mz_table"
   ]
  },
  {
   "cell_type": "code",
   "execution_count": 20,
   "metadata": {},
   "outputs": [],
   "source": [
    "def univariate_analysis(data, color, title1, title2):\n",
    "    \n",
    "    \"\"\"\n",
    "    Mostrando visualización de análisis univariado\n",
    "    con displot y qqplot, visualización \n",
    "    de seaborn y statsmodel\n",
    "    \n",
    "    Parámetros\n",
    "    ----------\n",
    "    data : DataFrame o array\n",
    "        Dataset para plotear. \n",
    "    title1: Titulo para displot\n",
    "    title2: Titulo para quantilplit\n",
    "        \n",
    "    Regresa\n",
    "    -------\n",
    "    fig : matplotlib figure\n",
    "        Regrse una figura con los dos gráficos\n",
    "    \"\"\"\n",
    "    \n",
    "    fig, (ax1, ax2) = plt.subplots(\n",
    "        ncols=2,\n",
    "        nrows=1,\n",
    "        figsize=(20, 6)\n",
    "    )\n",
    "\n",
    "    sns.distplot( \n",
    "        data,\n",
    "        ax=ax1,\n",
    "        kde=True,\n",
    "        color=color \n",
    "    )\n",
    "    \n",
    "    ax1.set_title(\n",
    "        title1, \n",
    "        weight=\"bold\",\n",
    "        fontname=\"monospace\", \n",
    "        fontsize=25, \n",
    "        pad=30 \n",
    "    )\n",
    "    \n",
    "    qqplot( \n",
    "        data, \n",
    "        ax=ax2, \n",
    "        line='s' \n",
    "    )\n",
    "    \n",
    "    ax2.set_title( \n",
    "        title2, \n",
    "        weight=\"bold\", \n",
    "        fontname=\"monospace\", \n",
    "        fontsize=25, \n",
    "        pad=30 \n",
    "    )\n",
    "    \n",
    "    return fig "
   ]
  },
  {
   "cell_type": "markdown",
   "metadata": {},
   "source": [
    "# Leer Dataset"
   ]
  },
  {
   "cell_type": "code",
   "execution_count": 21,
   "metadata": {},
   "outputs": [
    {
     "data": {
      "text/html": [
       "<div>\n",
       "<style scoped>\n",
       "    .dataframe tbody tr th:only-of-type {\n",
       "        vertical-align: middle;\n",
       "    }\n",
       "\n",
       "    .dataframe tbody tr th {\n",
       "        vertical-align: top;\n",
       "    }\n",
       "\n",
       "    .dataframe thead th {\n",
       "        text-align: right;\n",
       "    }\n",
       "</style>\n",
       "<table border=\"1\" class=\"dataframe\">\n",
       "  <thead>\n",
       "    <tr style=\"text-align: right;\">\n",
       "      <th></th>\n",
       "      <th>ID del cliente</th>\n",
       "      <th>Sexo</th>\n",
       "      <th>Edad</th>\n",
       "      <th>Ingresos</th>\n",
       "      <th>Tipo de hogar</th>\n",
       "      <th>Estado civil</th>\n",
       "      <th>Número de hijos</th>\n",
       "      <th>Puntuación de crédito</th>\n",
       "      <th>Tipo de trabajo</th>\n",
       "      <th>Educación</th>\n",
       "      <th>Fecha de inicio de la póliza</th>\n",
       "      <th>Tipo de seguro</th>\n",
       "      <th>Monto del seguro</th>\n",
       "      <th>Fecha del reclamo</th>\n",
       "      <th>Monto del reclamo</th>\n",
       "    </tr>\n",
       "  </thead>\n",
       "  <tbody>\n",
       "    <tr>\n",
       "      <th>0</th>\n",
       "      <td>1</td>\n",
       "      <td>Femenino</td>\n",
       "      <td>28</td>\n",
       "      <td>558900</td>\n",
       "      <td>Departamento</td>\n",
       "      <td>Viudo</td>\n",
       "      <td>3</td>\n",
       "      <td>556</td>\n",
       "      <td>Empresario</td>\n",
       "      <td>Preparatoria</td>\n",
       "      <td>2022-03-28</td>\n",
       "      <td>Vida</td>\n",
       "      <td>1806</td>\n",
       "      <td>2022-11-14</td>\n",
       "      <td>558</td>\n",
       "    </tr>\n",
       "    <tr>\n",
       "      <th>1</th>\n",
       "      <td>2</td>\n",
       "      <td>Femenino</td>\n",
       "      <td>18</td>\n",
       "      <td>212925</td>\n",
       "      <td>Departamento</td>\n",
       "      <td>Viudo</td>\n",
       "      <td>1</td>\n",
       "      <td>330</td>\n",
       "      <td>Empleado</td>\n",
       "      <td>Posgrado</td>\n",
       "      <td>2022-09-15</td>\n",
       "      <td>Vida</td>\n",
       "      <td>1371</td>\n",
       "      <td>2022-04-25</td>\n",
       "      <td>922</td>\n",
       "    </tr>\n",
       "    <tr>\n",
       "      <th>2</th>\n",
       "      <td>3</td>\n",
       "      <td>Femenino</td>\n",
       "      <td>37</td>\n",
       "      <td>838328</td>\n",
       "      <td>Departamento</td>\n",
       "      <td>Casado</td>\n",
       "      <td>3</td>\n",
       "      <td>776</td>\n",
       "      <td>Empresario</td>\n",
       "      <td>Universidad</td>\n",
       "      <td>2022-03-18</td>\n",
       "      <td>Hogar</td>\n",
       "      <td>6751</td>\n",
       "      <td>2022-07-31</td>\n",
       "      <td>3128</td>\n",
       "    </tr>\n",
       "    <tr>\n",
       "      <th>3</th>\n",
       "      <td>4</td>\n",
       "      <td>Masculino</td>\n",
       "      <td>25</td>\n",
       "      <td>459616</td>\n",
       "      <td>Casa</td>\n",
       "      <td>Soltero</td>\n",
       "      <td>4</td>\n",
       "      <td>821</td>\n",
       "      <td>Independiente</td>\n",
       "      <td>Universidad</td>\n",
       "      <td>2022-11-14</td>\n",
       "      <td>Hogar</td>\n",
       "      <td>5448</td>\n",
       "      <td>2022-07-29</td>\n",
       "      <td>1493</td>\n",
       "    </tr>\n",
       "    <tr>\n",
       "      <th>4</th>\n",
       "      <td>5</td>\n",
       "      <td>Masculino</td>\n",
       "      <td>41</td>\n",
       "      <td>678250</td>\n",
       "      <td>Casa</td>\n",
       "      <td>Casado</td>\n",
       "      <td>4</td>\n",
       "      <td>580</td>\n",
       "      <td>Empresario</td>\n",
       "      <td>Universidad</td>\n",
       "      <td>2023-03-02</td>\n",
       "      <td>Vida</td>\n",
       "      <td>5625</td>\n",
       "      <td>2022-07-08</td>\n",
       "      <td>1907</td>\n",
       "    </tr>\n",
       "  </tbody>\n",
       "</table>\n",
       "</div>"
      ],
      "text/plain": [
       "   ID del cliente       Sexo  Edad  Ingresos Tipo de hogar Estado civil  Número de hijos  \\\n",
       "0               1   Femenino    28    558900  Departamento        Viudo                3   \n",
       "1               2   Femenino    18    212925  Departamento        Viudo                1   \n",
       "2               3   Femenino    37    838328  Departamento       Casado                3   \n",
       "3               4  Masculino    25    459616          Casa      Soltero                4   \n",
       "4               5  Masculino    41    678250          Casa       Casado                4   \n",
       "\n",
       "   Puntuación de crédito Tipo de trabajo     Educación Fecha de inicio de la póliza  \\\n",
       "0                    556      Empresario  Preparatoria                   2022-03-28   \n",
       "1                    330        Empleado      Posgrado                   2022-09-15   \n",
       "2                    776      Empresario   Universidad                   2022-03-18   \n",
       "3                    821   Independiente   Universidad                   2022-11-14   \n",
       "4                    580      Empresario   Universidad                   2023-03-02   \n",
       "\n",
       "  Tipo de seguro  Monto del seguro Fecha del reclamo  Monto del reclamo  \n",
       "0           Vida              1806        2022-11-14                558  \n",
       "1           Vida              1371        2022-04-25                922  \n",
       "2          Hogar              6751        2022-07-31               3128  \n",
       "3          Hogar              5448        2022-07-29               1493  \n",
       "4           Vida              5625        2022-07-08               1907  "
      ]
     },
     "execution_count": 21,
     "metadata": {},
     "output_type": "execute_result"
    }
   ],
   "source": [
    "df=pd.read_csv('../data/in/datos_de_prueba.csv')\n",
    "df.head()"
   ]
  },
  {
   "cell_type": "markdown",
   "metadata": {},
   "source": [
    "# EDA"
   ]
  },
  {
   "cell_type": "code",
   "execution_count": 22,
   "metadata": {},
   "outputs": [
    {
     "name": "stdout",
     "output_type": "stream",
     "text": [
      "<class 'pandas.core.frame.DataFrame'>\n",
      "RangeIndex: 3000 entries, 0 to 2999\n",
      "Data columns (total 15 columns):\n",
      " #   Column                        Non-Null Count  Dtype \n",
      "---  ------                        --------------  ----- \n",
      " 0   ID del cliente                3000 non-null   int64 \n",
      " 1   Sexo                          3000 non-null   object\n",
      " 2   Edad                          3000 non-null   int64 \n",
      " 3   Ingresos                      3000 non-null   int64 \n",
      " 4   Tipo de hogar                 3000 non-null   object\n",
      " 5   Estado civil                  3000 non-null   object\n",
      " 6   Número de hijos               3000 non-null   int64 \n",
      " 7   Puntuación de crédito         3000 non-null   int64 \n",
      " 8   Tipo de trabajo               3000 non-null   object\n",
      " 9   Educación                     3000 non-null   object\n",
      " 10  Fecha de inicio de la póliza  3000 non-null   object\n",
      " 11  Tipo de seguro                3000 non-null   object\n",
      " 12  Monto del seguro              3000 non-null   int64 \n",
      " 13  Fecha del reclamo             3000 non-null   object\n",
      " 14  Monto del reclamo             3000 non-null   int64 \n",
      "dtypes: int64(7), object(8)\n",
      "memory usage: 351.7+ KB\n"
     ]
    }
   ],
   "source": [
    "df.info()"
   ]
  },
  {
   "attachments": {},
   "cell_type": "markdown",
   "metadata": {},
   "source": [
    "Tenemos 7 columnas de tipo entero y 8 de tipo objeto"
   ]
  },
  {
   "cell_type": "code",
   "execution_count": 23,
   "metadata": {},
   "outputs": [
    {
     "name": "stdout",
     "output_type": "stream",
     "text": [
      "El dataframe seleccionado tiene 15 columnas y 3000 filas.\n",
      "Hay 15 columnas que no tienen valores vacíos.\n"
     ]
    },
    {
     "data": {
      "text/html": [
       "<div>\n",
       "<style scoped>\n",
       "    .dataframe tbody tr th:only-of-type {\n",
       "        vertical-align: middle;\n",
       "    }\n",
       "\n",
       "    .dataframe tbody tr th {\n",
       "        vertical-align: top;\n",
       "    }\n",
       "\n",
       "    .dataframe thead th {\n",
       "        text-align: right;\n",
       "    }\n",
       "</style>\n",
       "<table border=\"1\" class=\"dataframe\">\n",
       "  <thead>\n",
       "    <tr style=\"text-align: right;\">\n",
       "      <th></th>\n",
       "      <th>Valores Cero</th>\n",
       "      <th>Valores missing</th>\n",
       "      <th>Valores cero y missing</th>\n",
       "      <th>% de cero y missing</th>\n",
       "      <th>Tipo de dato</th>\n",
       "    </tr>\n",
       "  </thead>\n",
       "  <tbody>\n",
       "    <tr>\n",
       "      <th>Número de hijos</th>\n",
       "      <td>489</td>\n",
       "      <td>0</td>\n",
       "      <td>489</td>\n",
       "      <td>16.300</td>\n",
       "      <td>int64</td>\n",
       "    </tr>\n",
       "    <tr>\n",
       "      <th>Monto del reclamo</th>\n",
       "      <td>1</td>\n",
       "      <td>0</td>\n",
       "      <td>1</td>\n",
       "      <td>0.033</td>\n",
       "      <td>int64</td>\n",
       "    </tr>\n",
       "    <tr>\n",
       "      <th>ID del cliente</th>\n",
       "      <td>0</td>\n",
       "      <td>0</td>\n",
       "      <td>0</td>\n",
       "      <td>0.000</td>\n",
       "      <td>int64</td>\n",
       "    </tr>\n",
       "    <tr>\n",
       "      <th>Sexo</th>\n",
       "      <td>0</td>\n",
       "      <td>0</td>\n",
       "      <td>0</td>\n",
       "      <td>0.000</td>\n",
       "      <td>object</td>\n",
       "    </tr>\n",
       "    <tr>\n",
       "      <th>Edad</th>\n",
       "      <td>0</td>\n",
       "      <td>0</td>\n",
       "      <td>0</td>\n",
       "      <td>0.000</td>\n",
       "      <td>int64</td>\n",
       "    </tr>\n",
       "    <tr>\n",
       "      <th>Ingresos</th>\n",
       "      <td>0</td>\n",
       "      <td>0</td>\n",
       "      <td>0</td>\n",
       "      <td>0.000</td>\n",
       "      <td>int64</td>\n",
       "    </tr>\n",
       "    <tr>\n",
       "      <th>Tipo de hogar</th>\n",
       "      <td>0</td>\n",
       "      <td>0</td>\n",
       "      <td>0</td>\n",
       "      <td>0.000</td>\n",
       "      <td>object</td>\n",
       "    </tr>\n",
       "    <tr>\n",
       "      <th>Estado civil</th>\n",
       "      <td>0</td>\n",
       "      <td>0</td>\n",
       "      <td>0</td>\n",
       "      <td>0.000</td>\n",
       "      <td>object</td>\n",
       "    </tr>\n",
       "    <tr>\n",
       "      <th>Puntuación de crédito</th>\n",
       "      <td>0</td>\n",
       "      <td>0</td>\n",
       "      <td>0</td>\n",
       "      <td>0.000</td>\n",
       "      <td>int64</td>\n",
       "    </tr>\n",
       "    <tr>\n",
       "      <th>Tipo de trabajo</th>\n",
       "      <td>0</td>\n",
       "      <td>0</td>\n",
       "      <td>0</td>\n",
       "      <td>0.000</td>\n",
       "      <td>object</td>\n",
       "    </tr>\n",
       "    <tr>\n",
       "      <th>Educación</th>\n",
       "      <td>0</td>\n",
       "      <td>0</td>\n",
       "      <td>0</td>\n",
       "      <td>0.000</td>\n",
       "      <td>object</td>\n",
       "    </tr>\n",
       "    <tr>\n",
       "      <th>Fecha de inicio de la póliza</th>\n",
       "      <td>0</td>\n",
       "      <td>0</td>\n",
       "      <td>0</td>\n",
       "      <td>0.000</td>\n",
       "      <td>object</td>\n",
       "    </tr>\n",
       "    <tr>\n",
       "      <th>Tipo de seguro</th>\n",
       "      <td>0</td>\n",
       "      <td>0</td>\n",
       "      <td>0</td>\n",
       "      <td>0.000</td>\n",
       "      <td>object</td>\n",
       "    </tr>\n",
       "    <tr>\n",
       "      <th>Monto del seguro</th>\n",
       "      <td>0</td>\n",
       "      <td>0</td>\n",
       "      <td>0</td>\n",
       "      <td>0.000</td>\n",
       "      <td>int64</td>\n",
       "    </tr>\n",
       "    <tr>\n",
       "      <th>Fecha del reclamo</th>\n",
       "      <td>0</td>\n",
       "      <td>0</td>\n",
       "      <td>0</td>\n",
       "      <td>0.000</td>\n",
       "      <td>object</td>\n",
       "    </tr>\n",
       "  </tbody>\n",
       "</table>\n",
       "</div>"
      ],
      "text/plain": [
       "                              Valores Cero  Valores missing  Valores cero y missing  \\\n",
       "Número de hijos                        489                0                     489   \n",
       "Monto del reclamo                        1                0                       1   \n",
       "ID del cliente                           0                0                       0   \n",
       "Sexo                                     0                0                       0   \n",
       "Edad                                     0                0                       0   \n",
       "Ingresos                                 0                0                       0   \n",
       "Tipo de hogar                            0                0                       0   \n",
       "Estado civil                             0                0                       0   \n",
       "Puntuación de crédito                    0                0                       0   \n",
       "Tipo de trabajo                          0                0                       0   \n",
       "Educación                                0                0                       0   \n",
       "Fecha de inicio de la póliza             0                0                       0   \n",
       "Tipo de seguro                           0                0                       0   \n",
       "Monto del seguro                         0                0                       0   \n",
       "Fecha del reclamo                        0                0                       0   \n",
       "\n",
       "                              % de cero y missing Tipo de dato  \n",
       "Número de hijos                            16.300        int64  \n",
       "Monto del reclamo                           0.033        int64  \n",
       "ID del cliente                              0.000        int64  \n",
       "Sexo                                        0.000       object  \n",
       "Edad                                        0.000        int64  \n",
       "Ingresos                                    0.000        int64  \n",
       "Tipo de hogar                               0.000       object  \n",
       "Estado civil                                0.000       object  \n",
       "Puntuación de crédito                       0.000        int64  \n",
       "Tipo de trabajo                             0.000       object  \n",
       "Educación                                   0.000       object  \n",
       "Fecha de inicio de la póliza                0.000       object  \n",
       "Tipo de seguro                              0.000       object  \n",
       "Monto del seguro                            0.000        int64  \n",
       "Fecha del reclamo                           0.000       object  "
      ]
     },
     "execution_count": 23,
     "metadata": {},
     "output_type": "execute_result"
    }
   ],
   "source": [
    "missing_zero_values_table(df)"
   ]
  },
  {
   "attachments": {},
   "cell_type": "markdown",
   "metadata": {},
   "source": [
    "* Se observa que hay solo 2 variables que contienen valores 0 y corresponde menos del 17% de la variable\n",
    "* No se observa valores nulos"
   ]
  },
  {
   "attachments": {},
   "cell_type": "markdown",
   "metadata": {},
   "source": [
    "## Validación de duplicados"
   ]
  },
  {
   "cell_type": "code",
   "execution_count": 24,
   "metadata": {},
   "outputs": [
    {
     "data": {
      "text/plain": [
       "True"
      ]
     },
     "execution_count": 24,
     "metadata": {},
     "output_type": "execute_result"
    }
   ],
   "source": [
    "df['ID del cliente'].nunique()==df.shape[0]"
   ]
  },
  {
   "attachments": {},
   "cell_type": "markdown",
   "metadata": {},
   "source": [
    "No hay duplicados de clientes"
   ]
  },
  {
   "attachments": {},
   "cell_type": "markdown",
   "metadata": {},
   "source": [
    "## Transformaciones"
   ]
  },
  {
   "attachments": {},
   "cell_type": "markdown",
   "metadata": {},
   "source": [
    "Se convierte la variable \"Fecha de inicio de la póliza\"\" en formato fecha para obtener componentes temporales e incluirlos dentro del modelo. Aplica lo mismo para \"Fecha del reclamo\" pero no se meterá al modelo pues es una variable parte del target"
   ]
  },
  {
   "cell_type": "code",
   "execution_count": 25,
   "metadata": {},
   "outputs": [],
   "source": [
    "df['start_date'] = pd.to_datetime(df['Fecha de inicio de la póliza'])\n",
    "df['claim_date'] = pd.to_datetime(df['Fecha del reclamo'])\n",
    "\n",
    "df['start_date_day'] = df['start_date'].dt.day\n",
    "df['start_date_month'] = df['start_date'].dt.month\n",
    "df['start_date_weekday'] = df['start_date'].dt.weekday\n",
    "\n",
    "df['diff_claim_start']=(df['claim_date'] - df['start_date']) / np.timedelta64(1, 'D')"
   ]
  },
  {
   "attachments": {},
   "cell_type": "markdown",
   "metadata": {},
   "source": [
    "## Analisis univariado"
   ]
  },
  {
   "cell_type": "code",
   "execution_count": 29,
   "metadata": {},
   "outputs": [
    {
     "data": {
      "image/png": "[encoded data removed]",
      "text/plain": [
       "<Figure size 1440x432 with 2 Axes>"
      ]
     },
     "execution_count": 29,
     "metadata": {},
     "output_type": "execute_result"
    },
    {
     "data": {
      "image/png": "[encoded data removed]",
      "text/plain": [
       "<Figure size 1440x432 with 2 Axes>"
      ]
     },
     "metadata": {
      "needs_background": "light"
     },
     "output_type": "display_data"
    }
   ],
   "source": [
    "univariate_analysis( \n",
    "    data=df[\"Monto del seguro\"], \n",
    "    color=\"red\", \n",
    "    title1=\"Monto del seguro Data Distribution\", \n",
    "    title2=\"Quantile Plot\")"
   ]
  },
  {
   "attachments": {},
   "cell_type": "markdown",
   "metadata": {},
   "source": [
    "El histograma es simétrico y no sigue una distribución normal por el gráfico de la derecha (No fitea en la recta del Q-Q plot)- Sigue una distribución **uniforme**"
   ]
  },
  {
   "cell_type": "code",
   "execution_count": 30,
   "metadata": {},
   "outputs": [
    {
     "data": {
      "image/png": "[encoded data removed]",
      "text/plain": [
       "<Figure size 1440x432 with 2 Axes>"
      ]
     },
     "execution_count": 30,
     "metadata": {},
     "output_type": "execute_result"
    },
    {
     "data": {
      "image/png": "[encoded data removed]",
      "text/plain": [
       "<Figure size 1440x432 with 2 Axes>"
      ]
     },
     "metadata": {
      "needs_background": "light"
     },
     "output_type": "display_data"
    }
   ],
   "source": [
    "univariate_analysis( \n",
    "    data=df[\"Puntuación de crédito\"], \n",
    "    color=\"red\", \n",
    "    title1=\"Puntuación de crédito Data Distribution\",\n",
    "    title2=\"Quantile Plot\")"
   ]
  },
  {
   "attachments": {},
   "cell_type": "markdown",
   "metadata": {},
   "source": [
    "El histograma es simétrico y no sigue una distribución normal por el gráfico de la derecha (No fitea en la recta del Q-Q plot)- Sigue una distribución **uniforme**"
   ]
  },
  {
   "cell_type": "code",
   "execution_count": 31,
   "metadata": {},
   "outputs": [
    {
     "data": {
      "image/png": "[encoded data removed]",
      "text/plain": [
       "<Figure size 1440x432 with 2 Axes>"
      ]
     },
     "execution_count": 31,
     "metadata": {},
     "output_type": "execute_result"
    },
    {
     "data": {
      "image/png": "[encoded data removed]",
      "text/plain": [
       "<Figure size 1440x432 with 2 Axes>"
      ]
     },
     "metadata": {
      "needs_background": "light"
     },
     "output_type": "display_data"
    }
   ],
   "source": [
    "univariate_analysis( \n",
    "    data=df[\"Ingresos\"], \n",
    "    color=\"red\", \n",
    "    title1=\"Ingresos Data Distribution\",\n",
    "    title2=\"Quantile Plot\")"
   ]
  },
  {
   "attachments": {},
   "cell_type": "markdown",
   "metadata": {},
   "source": [
    "El histograma es simétrico y no sigue una distribución normal por el gráfico de la derecha (No fitea en la recta del Q-Q plot)- Sigue una distribución **uniforme**"
   ]
  },
  {
   "attachments": {},
   "cell_type": "markdown",
   "metadata": {},
   "source": [
    "## Diseño del target"
   ]
  },
  {
   "cell_type": "code",
   "execution_count": 32,
   "metadata": {},
   "outputs": [
    {
     "data": {
      "image/png": "[encoded data removed]",
      "text/plain": [
       "<Figure size 432x288 with 1 Axes>"
      ]
     },
     "metadata": {
      "needs_background": "light"
     },
     "output_type": "display_data"
    }
   ],
   "source": [
    "fig, axes = plt.subplots()\n",
    "\n",
    "axes.violinplot(dataset = [df[\"diff_claim_start\"].values] )\n",
    "\n",
    "axes.set_title('Diferencia entre la fecha de reclamo y la fecha de inicio')\n",
    "axes.yaxis.grid(True)\n",
    "\n",
    "plt.show()"
   ]
  },
  {
   "attachments": {},
   "cell_type": "markdown",
   "metadata": {},
   "source": [
    "la diferencia entre fecha de reclamo y fecha de inicio de póliza es una normal"
   ]
  },
  {
   "cell_type": "code",
   "execution_count": 33,
   "metadata": {},
   "outputs": [
    {
     "name": "stdout",
     "output_type": "stream",
     "text": [
      "Diferencia maxima entre reclamo e inicio 361.0\n",
      "Q de reclamos con una diferencia de min 360 dias 1\n"
     ]
    }
   ],
   "source": [
    "print('Diferencia maxima entre reclamo e inicio',df[\"diff_claim_start\"].max())\n",
    "print('Q de reclamos con una diferencia de min 360 dias',df[df['diff_claim_start']>=360].shape[0])"
   ]
  },
  {
   "cell_type": "code",
   "execution_count": 34,
   "metadata": {},
   "outputs": [
    {
     "data": {
      "text/plain": [
       "(530, 21)"
      ]
     },
     "execution_count": 34,
     "metadata": {},
     "output_type": "execute_result"
    }
   ],
   "source": [
    "df[df[\"claim_date\"]>='2023-01-01'].shape"
   ]
  },
  {
   "attachments": {},
   "cell_type": "markdown",
   "metadata": {},
   "source": [
    "Entonces el target del modelo se define como 1 a aquellos clientes que hicieron un reclamo en 2023 y su fecha de póliza inicio en 2022"
   ]
  },
  {
   "cell_type": "code",
   "execution_count": 36,
   "metadata": {},
   "outputs": [],
   "source": [
    "df['target']=np.where(df[\"claim_date\"].dt.year>df[\"start_date\"].dt.year,1,0)"
   ]
  },
  {
   "attachments": {},
   "cell_type": "markdown",
   "metadata": {},
   "source": [
    "Ya que el hecho de hacer un reclamo esta correlacionado al target e implica ya lo que buscamos predecir eliminamos esas variables relacionadas al reclamo. También se elimina la variable \"ID del cliente\" porque no es una variable explicativa"
   ]
  },
  {
   "cell_type": "code",
   "execution_count": 37,
   "metadata": {},
   "outputs": [],
   "source": [
    "df.drop(columns=['claim_date','diff_claim_start',\n",
    "                 'Monto del reclamo','Fecha del reclamo','Fecha de inicio de la póliza'],inplace=True)"
   ]
  },
  {
   "cell_type": "markdown",
   "metadata": {},
   "source": [
    "## Generación de reporte de pandas profilling"
   ]
  },
  {
   "cell_type": "markdown",
   "metadata": {},
   "source": [
    "El siguiente reporte que se genera, nos brinda un overview de cada variable y su dsitribución ya se variable categórica, fecha o numérica. Al mismo tiempo, se puede visualizar las interacciones con la variable objetivo que es trip duration. Por último, se observa un gráfico de correlación para determinar la relación entre las variables."
   ]
  },
  {
   "cell_type": "code",
   "execution_count": 40,
   "metadata": {},
   "outputs": [],
   "source": [
    "profile=df.drop(columns=['ID del cliente','start_date']).profile_report(\n",
    "    title='Data Profile',\n",
    "    correlations={'spearman':{'calculate':True},\n",
    "                 'pearson':{'calculate':True}},\n",
    "    interactions={'targets':['target'],'continuous':True},\n",
    ")"
   ]
  },
  {
   "cell_type": "code",
   "execution_count": 41,
   "metadata": {},
   "outputs": [
    {
     "data": {
      "application/vnd.jupyter.widget-view+json": {
       "model_id": "2b0ecb7ae0a8490dabb2223221f1e412",
       "version_major": 2,
       "version_minor": 0
      },
      "text/plain": [
       "Summarize dataset:   0%|          | 0/5 [00:00<?, ?it/s]"
      ]
     },
     "metadata": {},
     "output_type": "display_data"
    },
    {
     "data": {
      "application/vnd.jupyter.widget-view+json": {
       "model_id": "f8bd07b3f2c84e2eaff3ee72be148746",
       "version_major": 2,
       "version_minor": 0
      },
      "text/plain": [
       "Generate report structure:   0%|          | 0/1 [00:00<?, ?it/s]"
      ]
     },
     "metadata": {},
     "output_type": "display_data"
    },
    {
     "data": {
      "application/vnd.jupyter.widget-view+json": {
       "model_id": "0ee250f151304abb91f937f207a00060",
       "version_major": 2,
       "version_minor": 0
      },
      "text/plain": [
       "Render HTML:   0%|          | 0/1 [00:00<?, ?it/s]"
      ]
     },
     "metadata": {},
     "output_type": "display_data"
    },
    {
     "data": {
      "application/vnd.jupyter.widget-view+json": {
       "model_id": "2720425a78744144a757d7e05a9087d3",
       "version_major": 2,
       "version_minor": 0
      },
      "text/plain": [
       "Export report to file:   0%|          | 0/1 [00:00<?, ?it/s]"
      ]
     },
     "metadata": {},
     "output_type": "display_data"
    }
   ],
   "source": [
    "profile.to_file('df_profile.html')"
   ]
  },
  {
   "attachments": {},
   "cell_type": "markdown",
   "metadata": {},
   "source": [
    "En este reporte se observa que casi todas las variables categóricas tienen sus clases casi igualmente distribuidas"
   ]
  },
  {
   "cell_type": "markdown",
   "metadata": {},
   "source": [
    "# Data Preprocessing"
   ]
  },
  {
   "cell_type": "markdown",
   "metadata": {},
   "source": [
    "Las variables categóricas son tratadas con <code>get_dummies</code> para crear nuevas columnas y estas se activen si la fila presenta el valor del nombre de la columna"
   ]
  },
  {
   "cell_type": "code",
   "execution_count": 42,
   "metadata": {},
   "outputs": [],
   "source": [
    "df=pd.get_dummies(df,prefix=['Sexo',\n",
    "                             'Tipo de hogar',\n",
    "                             'Estado civil',\n",
    "                             'Tipo de trabajo',\n",
    "                             'Educación',\n",
    "                             'Tipo de seguro'],\n",
    "                    columns = ['Sexo',\n",
    "                               'Tipo de hogar',\n",
    "                               'Estado civil',\n",
    "                               'Tipo de trabajo',\n",
    "                               'Educación',\n",
    "                               'Tipo de seguro'], drop_first=True)"
   ]
  },
  {
   "cell_type": "code",
   "execution_count": 43,
   "metadata": {},
   "outputs": [
    {
     "data": {
      "text/html": [
       "<div>\n",
       "<style scoped>\n",
       "    .dataframe tbody tr th:only-of-type {\n",
       "        vertical-align: middle;\n",
       "    }\n",
       "\n",
       "    .dataframe tbody tr th {\n",
       "        vertical-align: top;\n",
       "    }\n",
       "\n",
       "    .dataframe thead th {\n",
       "        text-align: right;\n",
       "    }\n",
       "</style>\n",
       "<table border=\"1\" class=\"dataframe\">\n",
       "  <thead>\n",
       "    <tr style=\"text-align: right;\">\n",
       "      <th></th>\n",
       "      <th>ID del cliente</th>\n",
       "      <th>Edad</th>\n",
       "      <th>Ingresos</th>\n",
       "      <th>Número de hijos</th>\n",
       "      <th>Puntuación de crédito</th>\n",
       "      <th>Monto del seguro</th>\n",
       "      <th>start_date</th>\n",
       "      <th>start_date_day</th>\n",
       "      <th>start_date_month</th>\n",
       "      <th>start_date_weekday</th>\n",
       "      <th>target</th>\n",
       "      <th>Sexo_Masculino</th>\n",
       "      <th>Tipo de hogar_Departamento</th>\n",
       "      <th>Estado civil_Divorciado</th>\n",
       "      <th>Estado civil_Soltero</th>\n",
       "      <th>Estado civil_Viudo</th>\n",
       "      <th>Tipo de trabajo_Empresario</th>\n",
       "      <th>Tipo de trabajo_Independiente</th>\n",
       "      <th>Educación_Preparatoria</th>\n",
       "      <th>Educación_Universidad</th>\n",
       "      <th>Tipo de seguro_Hogar</th>\n",
       "      <th>Tipo de seguro_Salud</th>\n",
       "      <th>Tipo de seguro_Vida</th>\n",
       "    </tr>\n",
       "  </thead>\n",
       "  <tbody>\n",
       "    <tr>\n",
       "      <th>0</th>\n",
       "      <td>1</td>\n",
       "      <td>28</td>\n",
       "      <td>558900</td>\n",
       "      <td>3</td>\n",
       "      <td>556</td>\n",
       "      <td>1806</td>\n",
       "      <td>2022-03-28</td>\n",
       "      <td>28</td>\n",
       "      <td>3</td>\n",
       "      <td>0</td>\n",
       "      <td>0</td>\n",
       "      <td>0</td>\n",
       "      <td>1</td>\n",
       "      <td>0</td>\n",
       "      <td>0</td>\n",
       "      <td>1</td>\n",
       "      <td>1</td>\n",
       "      <td>0</td>\n",
       "      <td>1</td>\n",
       "      <td>0</td>\n",
       "      <td>0</td>\n",
       "      <td>0</td>\n",
       "      <td>1</td>\n",
       "    </tr>\n",
       "    <tr>\n",
       "      <th>1</th>\n",
       "      <td>2</td>\n",
       "      <td>18</td>\n",
       "      <td>212925</td>\n",
       "      <td>1</td>\n",
       "      <td>330</td>\n",
       "      <td>1371</td>\n",
       "      <td>2022-09-15</td>\n",
       "      <td>15</td>\n",
       "      <td>9</td>\n",
       "      <td>3</td>\n",
       "      <td>0</td>\n",
       "      <td>0</td>\n",
       "      <td>1</td>\n",
       "      <td>0</td>\n",
       "      <td>0</td>\n",
       "      <td>1</td>\n",
       "      <td>0</td>\n",
       "      <td>0</td>\n",
       "      <td>0</td>\n",
       "      <td>0</td>\n",
       "      <td>0</td>\n",
       "      <td>0</td>\n",
       "      <td>1</td>\n",
       "    </tr>\n",
       "    <tr>\n",
       "      <th>2</th>\n",
       "      <td>3</td>\n",
       "      <td>37</td>\n",
       "      <td>838328</td>\n",
       "      <td>3</td>\n",
       "      <td>776</td>\n",
       "      <td>6751</td>\n",
       "      <td>2022-03-18</td>\n",
       "      <td>18</td>\n",
       "      <td>3</td>\n",
       "      <td>4</td>\n",
       "      <td>0</td>\n",
       "      <td>0</td>\n",
       "      <td>1</td>\n",
       "      <td>0</td>\n",
       "      <td>0</td>\n",
       "      <td>0</td>\n",
       "      <td>1</td>\n",
       "      <td>0</td>\n",
       "      <td>0</td>\n",
       "      <td>1</td>\n",
       "      <td>1</td>\n",
       "      <td>0</td>\n",
       "      <td>0</td>\n",
       "    </tr>\n",
       "    <tr>\n",
       "      <th>3</th>\n",
       "      <td>4</td>\n",
       "      <td>25</td>\n",
       "      <td>459616</td>\n",
       "      <td>4</td>\n",
       "      <td>821</td>\n",
       "      <td>5448</td>\n",
       "      <td>2022-11-14</td>\n",
       "      <td>14</td>\n",
       "      <td>11</td>\n",
       "      <td>0</td>\n",
       "      <td>0</td>\n",
       "      <td>1</td>\n",
       "      <td>0</td>\n",
       "      <td>0</td>\n",
       "      <td>1</td>\n",
       "      <td>0</td>\n",
       "      <td>0</td>\n",
       "      <td>1</td>\n",
       "      <td>0</td>\n",
       "      <td>1</td>\n",
       "      <td>1</td>\n",
       "      <td>0</td>\n",
       "      <td>0</td>\n",
       "    </tr>\n",
       "    <tr>\n",
       "      <th>4</th>\n",
       "      <td>5</td>\n",
       "      <td>41</td>\n",
       "      <td>678250</td>\n",
       "      <td>4</td>\n",
       "      <td>580</td>\n",
       "      <td>5625</td>\n",
       "      <td>2023-03-02</td>\n",
       "      <td>2</td>\n",
       "      <td>3</td>\n",
       "      <td>3</td>\n",
       "      <td>0</td>\n",
       "      <td>1</td>\n",
       "      <td>0</td>\n",
       "      <td>0</td>\n",
       "      <td>0</td>\n",
       "      <td>0</td>\n",
       "      <td>1</td>\n",
       "      <td>0</td>\n",
       "      <td>0</td>\n",
       "      <td>1</td>\n",
       "      <td>0</td>\n",
       "      <td>0</td>\n",
       "      <td>1</td>\n",
       "    </tr>\n",
       "  </tbody>\n",
       "</table>\n",
       "</div>"
      ],
      "text/plain": [
       "   ID del cliente  Edad  Ingresos  Número de hijos  Puntuación de crédito  Monto del seguro  \\\n",
       "0               1    28    558900                3                    556              1806   \n",
       "1               2    18    212925                1                    330              1371   \n",
       "2               3    37    838328                3                    776              6751   \n",
       "3               4    25    459616                4                    821              5448   \n",
       "4               5    41    678250                4                    580              5625   \n",
       "\n",
       "  start_date  start_date_day  start_date_month  start_date_weekday  target  Sexo_Masculino  \\\n",
       "0 2022-03-28              28                 3                   0       0               0   \n",
       "1 2022-09-15              15                 9                   3       0               0   \n",
       "2 2022-03-18              18                 3                   4       0               0   \n",
       "3 2022-11-14              14                11                   0       0               1   \n",
       "4 2023-03-02               2                 3                   3       0               1   \n",
       "\n",
       "   Tipo de hogar_Departamento  Estado civil_Divorciado  Estado civil_Soltero  Estado civil_Viudo  \\\n",
       "0                           1                        0                     0                   1   \n",
       "1                           1                        0                     0                   1   \n",
       "2                           1                        0                     0                   0   \n",
       "3                           0                        0                     1                   0   \n",
       "4                           0                        0                     0                   0   \n",
       "\n",
       "   Tipo de trabajo_Empresario  Tipo de trabajo_Independiente  Educación_Preparatoria  \\\n",
       "0                           1                              0                       1   \n",
       "1                           0                              0                       0   \n",
       "2                           1                              0                       0   \n",
       "3                           0                              1                       0   \n",
       "4                           1                              0                       0   \n",
       "\n",
       "   Educación_Universidad  Tipo de seguro_Hogar  Tipo de seguro_Salud  Tipo de seguro_Vida  \n",
       "0                      0                     0                     0                    1  \n",
       "1                      0                     0                     0                    1  \n",
       "2                      1                     1                     0                    0  \n",
       "3                      1                     1                     0                    0  \n",
       "4                      1                     0                     0                    1  "
      ]
     },
     "execution_count": 43,
     "metadata": {},
     "output_type": "execute_result"
    }
   ],
   "source": [
    "df.head()"
   ]
  },
  {
   "attachments": {},
   "cell_type": "markdown",
   "metadata": {},
   "source": [
    "La variable X contendrá todas las variables menos la variable target y la variable start_date\n",
    "<br><br>\n",
    "\n",
    "Mientras que la variable y, para este ejercicio se toma la variable target"
   ]
  },
  {
   "cell_type": "code",
   "execution_count": 44,
   "metadata": {},
   "outputs": [],
   "source": [
    "X = df.drop(columns=['ID del cliente','start_date','target'])\n",
    "y = df['target']"
   ]
  },
  {
   "cell_type": "code",
   "execution_count": 45,
   "metadata": {},
   "outputs": [],
   "source": [
    "df.to_csv('../data/out/data_proc.csv',index=False)"
   ]
  },
  {
   "cell_type": "markdown",
   "metadata": {},
   "source": [
    "Se estandariza las variables independientes para que estén a la misma escala"
   ]
  },
  {
   "cell_type": "code",
   "execution_count": 46,
   "metadata": {},
   "outputs": [
    {
     "data": {
      "text/html": [
       "<div>\n",
       "<style scoped>\n",
       "    .dataframe tbody tr th:only-of-type {\n",
       "        vertical-align: middle;\n",
       "    }\n",
       "\n",
       "    .dataframe tbody tr th {\n",
       "        vertical-align: top;\n",
       "    }\n",
       "\n",
       "    .dataframe thead th {\n",
       "        text-align: right;\n",
       "    }\n",
       "</style>\n",
       "<table border=\"1\" class=\"dataframe\">\n",
       "  <thead>\n",
       "    <tr style=\"text-align: right;\">\n",
       "      <th></th>\n",
       "      <th>Edad</th>\n",
       "      <th>Ingresos</th>\n",
       "      <th>Número de hijos</th>\n",
       "      <th>Puntuación de crédito</th>\n",
       "      <th>Monto del seguro</th>\n",
       "      <th>start_date_day</th>\n",
       "      <th>start_date_month</th>\n",
       "      <th>start_date_weekday</th>\n",
       "      <th>Sexo_Masculino</th>\n",
       "      <th>Tipo de hogar_Departamento</th>\n",
       "      <th>Estado civil_Divorciado</th>\n",
       "      <th>Estado civil_Soltero</th>\n",
       "      <th>Estado civil_Viudo</th>\n",
       "      <th>Tipo de trabajo_Empresario</th>\n",
       "      <th>Tipo de trabajo_Independiente</th>\n",
       "      <th>Educación_Preparatoria</th>\n",
       "      <th>Educación_Universidad</th>\n",
       "      <th>Tipo de seguro_Hogar</th>\n",
       "      <th>Tipo de seguro_Salud</th>\n",
       "      <th>Tipo de seguro_Vida</th>\n",
       "    </tr>\n",
       "  </thead>\n",
       "  <tbody>\n",
       "    <tr>\n",
       "      <th>0</th>\n",
       "      <td>-1.142275</td>\n",
       "      <td>0.203675</td>\n",
       "      <td>0.297676</td>\n",
       "      <td>-0.111296</td>\n",
       "      <td>-1.426152</td>\n",
       "      <td>1.400569</td>\n",
       "      <td>-1.004979</td>\n",
       "      <td>-1.505939</td>\n",
       "      <td>-1.001334</td>\n",
       "      <td>1.004678</td>\n",
       "      <td>-0.568625</td>\n",
       "      <td>-0.565545</td>\n",
       "      <td>1.682682</td>\n",
       "      <td>1.407873</td>\n",
       "      <td>-0.696526</td>\n",
       "      <td>1.393261</td>\n",
       "      <td>-0.667148</td>\n",
       "      <td>-0.576837</td>\n",
       "      <td>-0.579916</td>\n",
       "      <td>1.685595</td>\n",
       "    </tr>\n",
       "    <tr>\n",
       "      <th>1</th>\n",
       "      <td>-1.690436</td>\n",
       "      <td>-0.996147</td>\n",
       "      <td>-0.883577</td>\n",
       "      <td>-1.530712</td>\n",
       "      <td>-1.594900</td>\n",
       "      <td>-0.072521</td>\n",
       "      <td>0.729571</td>\n",
       "      <td>-0.009973</td>\n",
       "      <td>-1.001334</td>\n",
       "      <td>1.004678</td>\n",
       "      <td>-0.568625</td>\n",
       "      <td>-0.565545</td>\n",
       "      <td>1.682682</td>\n",
       "      <td>-0.710291</td>\n",
       "      <td>-0.696526</td>\n",
       "      <td>-0.717741</td>\n",
       "      <td>-0.667148</td>\n",
       "      <td>-0.576837</td>\n",
       "      <td>-0.579916</td>\n",
       "      <td>1.685595</td>\n",
       "    </tr>\n",
       "    <tr>\n",
       "      <th>2</th>\n",
       "      <td>-0.648931</td>\n",
       "      <td>1.172716</td>\n",
       "      <td>0.297676</td>\n",
       "      <td>1.270436</td>\n",
       "      <td>0.492137</td>\n",
       "      <td>0.267422</td>\n",
       "      <td>-1.004979</td>\n",
       "      <td>0.488682</td>\n",
       "      <td>-1.001334</td>\n",
       "      <td>1.004678</td>\n",
       "      <td>-0.568625</td>\n",
       "      <td>-0.565545</td>\n",
       "      <td>-0.594289</td>\n",
       "      <td>1.407873</td>\n",
       "      <td>-0.696526</td>\n",
       "      <td>-0.717741</td>\n",
       "      <td>1.498917</td>\n",
       "      <td>1.733592</td>\n",
       "      <td>-0.579916</td>\n",
       "      <td>-0.593262</td>\n",
       "    </tr>\n",
       "    <tr>\n",
       "      <th>3</th>\n",
       "      <td>-1.306723</td>\n",
       "      <td>-0.140636</td>\n",
       "      <td>0.888302</td>\n",
       "      <td>1.553063</td>\n",
       "      <td>-0.013329</td>\n",
       "      <td>-0.185836</td>\n",
       "      <td>1.307755</td>\n",
       "      <td>-1.505939</td>\n",
       "      <td>0.998668</td>\n",
       "      <td>-0.995344</td>\n",
       "      <td>-0.568625</td>\n",
       "      <td>1.768205</td>\n",
       "      <td>-0.594289</td>\n",
       "      <td>-0.710291</td>\n",
       "      <td>1.435697</td>\n",
       "      <td>-0.717741</td>\n",
       "      <td>1.498917</td>\n",
       "      <td>1.733592</td>\n",
       "      <td>-0.579916</td>\n",
       "      <td>-0.593262</td>\n",
       "    </tr>\n",
       "    <tr>\n",
       "      <th>4</th>\n",
       "      <td>-0.429667</td>\n",
       "      <td>0.617574</td>\n",
       "      <td>0.888302</td>\n",
       "      <td>0.039438</td>\n",
       "      <td>0.055334</td>\n",
       "      <td>-1.545611</td>\n",
       "      <td>-1.004979</td>\n",
       "      <td>-0.009973</td>\n",
       "      <td>0.998668</td>\n",
       "      <td>-0.995344</td>\n",
       "      <td>-0.568625</td>\n",
       "      <td>-0.565545</td>\n",
       "      <td>-0.594289</td>\n",
       "      <td>1.407873</td>\n",
       "      <td>-0.696526</td>\n",
       "      <td>-0.717741</td>\n",
       "      <td>1.498917</td>\n",
       "      <td>-0.576837</td>\n",
       "      <td>-0.579916</td>\n",
       "      <td>1.685595</td>\n",
       "    </tr>\n",
       "  </tbody>\n",
       "</table>\n",
       "</div>"
      ],
      "text/plain": [
       "       Edad  Ingresos  Número de hijos  Puntuación de crédito  Monto del seguro  start_date_day  \\\n",
       "0 -1.142275  0.203675         0.297676              -0.111296         -1.426152        1.400569   \n",
       "1 -1.690436 -0.996147        -0.883577              -1.530712         -1.594900       -0.072521   \n",
       "2 -0.648931  1.172716         0.297676               1.270436          0.492137        0.267422   \n",
       "3 -1.306723 -0.140636         0.888302               1.553063         -0.013329       -0.185836   \n",
       "4 -0.429667  0.617574         0.888302               0.039438          0.055334       -1.545611   \n",
       "\n",
       "   start_date_month  start_date_weekday  Sexo_Masculino  Tipo de hogar_Departamento  \\\n",
       "0         -1.004979           -1.505939       -1.001334                    1.004678   \n",
       "1          0.729571           -0.009973       -1.001334                    1.004678   \n",
       "2         -1.004979            0.488682       -1.001334                    1.004678   \n",
       "3          1.307755           -1.505939        0.998668                   -0.995344   \n",
       "4         -1.004979           -0.009973        0.998668                   -0.995344   \n",
       "\n",
       "   Estado civil_Divorciado  Estado civil_Soltero  Estado civil_Viudo  Tipo de trabajo_Empresario  \\\n",
       "0                -0.568625             -0.565545            1.682682                    1.407873   \n",
       "1                -0.568625             -0.565545            1.682682                   -0.710291   \n",
       "2                -0.568625             -0.565545           -0.594289                    1.407873   \n",
       "3                -0.568625              1.768205           -0.594289                   -0.710291   \n",
       "4                -0.568625             -0.565545           -0.594289                    1.407873   \n",
       "\n",
       "   Tipo de trabajo_Independiente  Educación_Preparatoria  Educación_Universidad  \\\n",
       "0                      -0.696526                1.393261              -0.667148   \n",
       "1                      -0.696526               -0.717741              -0.667148   \n",
       "2                      -0.696526               -0.717741               1.498917   \n",
       "3                       1.435697               -0.717741               1.498917   \n",
       "4                      -0.696526               -0.717741               1.498917   \n",
       "\n",
       "   Tipo de seguro_Hogar  Tipo de seguro_Salud  Tipo de seguro_Vida  \n",
       "0             -0.576837             -0.579916             1.685595  \n",
       "1             -0.576837             -0.579916             1.685595  \n",
       "2              1.733592             -0.579916            -0.593262  \n",
       "3              1.733592             -0.579916            -0.593262  \n",
       "4             -0.576837             -0.579916             1.685595  "
      ]
     },
     "execution_count": 46,
     "metadata": {},
     "output_type": "execute_result"
    }
   ],
   "source": [
    "cols = X.columns\n",
    "\n",
    "ss = StandardScaler()\n",
    "\n",
    "new_df = ss.fit_transform(X)\n",
    "new_df = pd.DataFrame(new_df, columns=cols)\n",
    "new_df.head()"
   ]
  },
  {
   "cell_type": "markdown",
   "metadata": {},
   "source": [
    "Se divide en train y test para realizar validaciones"
   ]
  },
  {
   "cell_type": "code",
   "execution_count": 47,
   "metadata": {},
   "outputs": [],
   "source": [
    "X_train, X_test, y_train, y_test = train_test_split(new_df, y, test_size=0.30, random_state=0,stratify=y)"
   ]
  },
  {
   "cell_type": "markdown",
   "metadata": {},
   "source": [
    "# Feature Selection"
   ]
  },
  {
   "cell_type": "markdown",
   "metadata": {},
   "source": [
    "<code>f_regression</code> permite derteminar si una variable independiente es significativa para la variable dependiente y rankea de acuerdo F-value"
   ]
  },
  {
   "cell_type": "code",
   "execution_count": 48,
   "metadata": {},
   "outputs": [
    {
     "data": {
      "image/png": "[encoded data removed]",
      "text/plain": [
       "<Figure size 432x288 with 1 Axes>"
      ]
     },
     "metadata": {
      "needs_background": "light"
     },
     "output_type": "display_data"
    }
   ],
   "source": [
    "\n",
    "f_selector = SelectKBest(score_func=f_regression, k='all')\n",
    "\n",
    "f_selector.fit(X_train, y_train)\n",
    "\n",
    "X_train_fs = f_selector.transform(X_train)\n",
    "\n",
    "X_test_fs = f_selector.transform(X_test)\n",
    "\n",
    "plt.bar([i for i in range(len(f_selector.scores_))], f_selector.scores_)\n",
    "plt.xlabel(\"feature index\")\n",
    "plt.ylabel(\"F-value (transformed from the correlation values)\")\n",
    "plt.show()"
   ]
  },
  {
   "attachments": {},
   "cell_type": "markdown",
   "metadata": {},
   "source": [
    "Se observa que las variables en el índice 6 tienen mayor relación"
   ]
  },
  {
   "cell_type": "markdown",
   "metadata": {},
   "source": [
    "Así como el método anterior, <code>mutual_info_regression</code> permite verificar si existe una relación de dependencia entre dos variables: en este caso con la variable y. Esta función tiene como base un método no paramétrico."
   ]
  },
  {
   "cell_type": "code",
   "execution_count": 49,
   "metadata": {},
   "outputs": [
    {
     "data": {
      "image/png": "[encoded data removed]",
      "text/plain": [
       "<Figure size 432x288 with 1 Axes>"
      ]
     },
     "metadata": {
      "needs_background": "light"
     },
     "output_type": "display_data"
    }
   ],
   "source": [
    "\n",
    "f_selector = SelectKBest(score_func=mutual_info_regression, k='all')\n",
    "\n",
    "f_selector.fit(X_train, y_train)\n",
    "\n",
    "X_train_fs = f_selector.transform(X_train)\n",
    "\n",
    "X_test_fs = f_selector.transform(X_test)\n",
    "\n",
    "plt.bar([i for i in range(len(f_selector.scores_))], f_selector.scores_)\n",
    "plt.xlabel(\"feature index\")\n",
    "plt.ylabel(\"Estimated MI value\")\n",
    "plt.show()"
   ]
  },
  {
   "attachments": {},
   "cell_type": "markdown",
   "metadata": {},
   "source": [
    "Se observa que las variables en el índice 10 y 17 tienen mayor relación"
   ]
  },
  {
   "cell_type": "markdown",
   "metadata": {},
   "source": [
    "Se utiliza el método de OLS (Mínimos cuadrados ordinarios) para validar si existe una relación de dependencia entre las variables independientes y dependiente."
   ]
  },
  {
   "cell_type": "code",
   "execution_count": 50,
   "metadata": {},
   "outputs": [
    {
     "data": {
      "text/plain": [
       "const                     1.662455e-76\n",
       "Edad                      3.250423e-01\n",
       "Ingresos                  2.431255e-01\n",
       "Número de hijos           4.917663e-01\n",
       "Puntuación de crédito     3.156258e-01\n",
       "                              ...     \n",
       "Educación_Preparatoria    3.888322e-01\n",
       "Educación_Universidad     1.513458e-01\n",
       "Tipo de seguro_Hogar      3.339405e-01\n",
       "Tipo de seguro_Salud      1.782858e-01\n",
       "Tipo de seguro_Vida       4.009270e-01\n",
       "Length: 21, dtype: float64"
      ]
     },
     "execution_count": 50,
     "metadata": {},
     "output_type": "execute_result"
    }
   ],
   "source": [
    "\n",
    "X_1 = sm.add_constant(X_train)\n",
    "\n",
    "model = sm.OLS(y_train,X_1).fit()\n",
    "model.pvalues"
   ]
  },
  {
   "attachments": {},
   "cell_type": "markdown",
   "metadata": {},
   "source": [
    "Según este análisis lineal, casi todas las variables no tienen un pvalue menor a 0.05 por lo que NO son significativas para el modelo"
   ]
  },
  {
   "cell_type": "markdown",
   "metadata": {},
   "source": [
    "Por útlimo, probamos el con método de **backward elimination** que busca eliminar las variables que menos aportan a explicar la variable dependiente "
   ]
  },
  {
   "cell_type": "code",
   "execution_count": 51,
   "metadata": {},
   "outputs": [
    {
     "name": "stdout",
     "output_type": "stream",
     "text": [
      "['start_date_month', 'Estado civil_Viudo']\n"
     ]
    }
   ],
   "source": [
    "\n",
    "cols = list(X_train.columns)\n",
    "pmax = 1\n",
    "while (len(cols)>0):\n",
    "    p= []\n",
    "    X_1 = X_train[cols]\n",
    "    X_1 = sm.add_constant(X_1)\n",
    "    model = sm.OLS(y_train,X_1).fit()\n",
    "    p = pd.Series(model.pvalues.values[1:],index = cols)      \n",
    "    pmax = max(p)\n",
    "    feature_with_p_max = p.idxmax()\n",
    "    if(pmax>0.05):\n",
    "        cols.remove(feature_with_p_max)\n",
    "    else:\n",
    "        break\n",
    "selected_features_BE = cols\n",
    "print(selected_features_BE)"
   ]
  },
  {
   "attachments": {},
   "cell_type": "markdown",
   "metadata": {},
   "source": [
    "Se llega a eliminar todas las variables con el método de OLS excepto \"start_date_month\" y \"Estado civil_Viudo\""
   ]
  },
  {
   "cell_type": "markdown",
   "metadata": {},
   "source": [
    "# Entrenamiento de modelos"
   ]
  },
  {
   "attachments": {},
   "cell_type": "markdown",
   "metadata": {},
   "source": [
    "Utilizaremos las siguientes métricas para comparar los modelos:\n",
    "* AUC"
   ]
  },
  {
   "attachments": {},
   "cell_type": "markdown",
   "metadata": {},
   "source": [
    "## Logistic regression"
   ]
  },
  {
   "cell_type": "code",
   "execution_count": 52,
   "metadata": {},
   "outputs": [],
   "source": [
    "model=LogisticRegression()\n",
    "model.fit(X_train,y_train)\n",
    "pred=model.predict_proba(X_test)[:,1]"
   ]
  },
  {
   "cell_type": "code",
   "execution_count": 53,
   "metadata": {},
   "outputs": [
    {
     "name": "stdout",
     "output_type": "stream",
     "text": [
      "Training Score :  0.6478870439937913\n",
      "Validation Score :  0.5619870580808081\n",
      "Cross Validation Score :  0.5964934229953334\n"
     ]
    }
   ],
   "source": [
    "#examining scores\n",
    "\n",
    "print (\"Training Score : \" , roc_auc_score(y_train,model.predict_proba(X_train)[:,1]))\n",
    "\n",
    "print (\"Validation Score : \", roc_auc_score(y_test,pred))\n",
    "\n",
    "print (\"Cross Validation Score : \" , cross_val_score(model, X_train, y_train,scoring=\"roc_auc\", cv=5).mean())"
   ]
  },
  {
   "cell_type": "markdown",
   "metadata": {},
   "source": [
    "## Árbol de decisión"
   ]
  },
  {
   "cell_type": "code",
   "execution_count": 54,
   "metadata": {},
   "outputs": [],
   "source": [
    "from sklearn.tree import DecisionTreeClassifier\n",
    "\n",
    "est_dt = DecisionTreeClassifier(max_depth=10)\n",
    "est_dt.fit(X_train, y_train)\n",
    "dt_pred = est_dt.predict_proba(X_test)[:,1]"
   ]
  },
  {
   "cell_type": "code",
   "execution_count": 55,
   "metadata": {},
   "outputs": [
    {
     "name": "stdout",
     "output_type": "stream",
     "text": [
      "Training Score :  0.8955953807151542\n",
      "Validation Score :  0.490954466540404\n",
      "Cross Validation Score :  0.5934902107268439\n"
     ]
    }
   ],
   "source": [
    "#examining scores\n",
    "\n",
    "print (\"Training Score : \" , roc_auc_score(y_train,est_dt.predict_proba(X_train)[:,1]))\n",
    "\n",
    "print (\"Validation Score : \", roc_auc_score(y_test,dt_pred))\n",
    "\n",
    "print (\"Cross Validation Score : \" , cross_val_score(est_dt, X_train, y_train,scoring=\"roc_auc\", cv=5).mean())"
   ]
  },
  {
   "cell_type": "markdown",
   "metadata": {},
   "source": [
    "## Bosque aleatorio"
   ]
  },
  {
   "cell_type": "code",
   "execution_count": 56,
   "metadata": {},
   "outputs": [],
   "source": [
    "from sklearn.ensemble import RandomForestClassifier\n",
    "\n",
    "est_rf = RandomForestClassifier(n_estimators=50, max_depth=10)\n",
    "est_rf.fit(X_train, y_train)\n",
    "rf_pred = est_rf.predict(X_test)"
   ]
  },
  {
   "cell_type": "code",
   "execution_count": 57,
   "metadata": {},
   "outputs": [
    {
     "name": "stdout",
     "output_type": "stream",
     "text": [
      "Training Score :  0.9996458379636406\n",
      "Validation Score :  0.5\n",
      "Cross Validation Score :  0.5609406039626326\n"
     ]
    }
   ],
   "source": [
    "#examining scores\n",
    "\n",
    "print (\"Training Score : \" , roc_auc_score(y_train,est_rf.predict_proba(X_train)[:,1]))\n",
    "\n",
    "print (\"Validation Score : \", roc_auc_score(y_test,rf_pred))\n",
    "\n",
    "print (\"Cross Validation Score : \" , cross_val_score(est_rf, X_train, y_train,scoring=\"roc_auc\", cv=5).mean())"
   ]
  },
  {
   "attachments": {},
   "cell_type": "markdown",
   "metadata": {},
   "source": [
    "## Lightgbm Classifier"
   ]
  },
  {
   "cell_type": "code",
   "execution_count": 58,
   "metadata": {},
   "outputs": [],
   "source": [
    "model = lgb.LGBMClassifier(boosting_type= 'gbdt',\n",
    "    n_estimators= 50,random_state=1)\n",
    "model.fit(X_train, y_train,\n",
    "        eval_set=[(X_test, y_test)],verbose=False)\n",
    "pred = model.predict_proba(X_test)[:,1] "
   ]
  },
  {
   "cell_type": "code",
   "execution_count": 59,
   "metadata": {},
   "outputs": [
    {
     "name": "stdout",
     "output_type": "stream",
     "text": [
      "Training Score :  0.9995048959287628\n",
      "Validation Score :  0.555792297979798\n",
      "Cross Validation Score :  0.5612054496555811\n"
     ]
    }
   ],
   "source": [
    "#examining scores\n",
    "\n",
    "print (\"Training Score : \" , roc_auc_score(y_train,model.predict_proba(X_train)[:,1]))\n",
    "\n",
    "print (\"Validation Score : \", roc_auc_score(y_test,pred))\n",
    "\n",
    "print (\"Cross Validation Score : \" , cross_val_score(model, X_train, y_train,scoring=\"roc_auc\", cv=5).mean())"
   ]
  },
  {
   "attachments": {},
   "cell_type": "markdown",
   "metadata": {},
   "source": [
    "Estamos viendo que con esta muestra no se tiene resultados consistentes con estas variables. El modelo esta overfitteando porque en el training se tiene un auc alto y en el validation baja totalmente. Ahora el ranking de mejor AUC según el cross_validation es el sgte:\n",
    "1. Regresión Logística\n",
    "2. DecisionTree\n",
    "3. Lightgbm\n",
    "4. Random Forest"
   ]
  }
 ],
 "metadata": {
  "interpreter": {
   "hash": "2b40e99855d89b0e5584e2f36b9276db130fec0023825d3d1fdddf446a5469cb"
  },
  "kernelspec": {
   "display_name": "Python 3.7.10 ('bafi_churn')",
   "language": "python",
   "name": "python3"
  },
  "language_info": {
   "codemirror_mode": {
    "name": "ipython",
    "version": 3
   },
   "file_extension": ".py",
   "mimetype": "text/x-python",
   "name": "python",
   "nbconvert_exporter": "python",
   "pygments_lexer": "ipython3",
   "version": "3.7.7"
  },
  "orig_nbformat": 4
 },
 "nbformat": 4,
 "nbformat_minor": 2
}
